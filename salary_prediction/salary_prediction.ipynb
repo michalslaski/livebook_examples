{
 "cells": [
  {
   "cell_type": "code",
   "execution_count": null,
   "metadata": {
    "id": "YjrAUzyh9_iM"
   },
   "outputs": [],
   "source": [
    "!cat salaries.csv"
   ]
  },
  {
   "cell_type": "code",
   "execution_count": null,
   "metadata": {
    "id": "8Uy3D-KrxVCN"
   },
   "outputs": [],
   "source": [
    "import pandas as pd\n",
    "import numpy as np\n",
    "\n",
    "# columns = ['year','inflation','pl_salary']\n",
    "data = pd.read_csv('salaries.csv', header=None).values\n",
    "\n",
    "# make it a 2D array of size N x D where D = 1\n",
    "X = data[:,0].reshape(-1, 1)\n",
    "\n",
    "# center inputs around 0\n",
    "X = X - 2015\n",
    "\n",
    "# prepare training data\n",
    "Y2010 = data[:,2]\n",
    "Y = np.log(Y2010)"
   ]
  },
  {
   "cell_type": "code",
   "execution_count": null,
   "metadata": {
    "id": "nRs9eL4W_cno"
   },
   "outputs": [],
   "source": [
    "import tensorflow as tf\n",
    "import time;\n",
    "\n",
    "start = time.time()\n",
    "\n",
    "# create model\n",
    "model = tf.keras.models.Sequential(\n",
    "    [tf.keras.layers.InputLayer(input_shape=(1,)),\n",
    "     tf.keras.layers.Dense(1)]\n",
    ")\n",
    "\n",
    "# use mean squared error as the loss function\n",
    "model.compile(optimizer=tf.keras.optimizers.SGD(0.01, 0.9), loss='mse')\n",
    "\n",
    "r = model.fit(X, Y, epochs=3000)\n",
    "\n",
    "# print time elapsed while training\n",
    "print(\"training time: \" + f'{(time.time() - start):.3f}' + \"s\")"
   ]
  },
  {
   "cell_type": "code",
   "execution_count": null,
   "metadata": {
    "id": "QV-c8Y6tR5jp"
   },
   "outputs": [],
   "source": [
    "import matplotlib.pyplot as plt\n",
    "\n",
    "# predict salaries for the next decade\n",
    "X2020 = [[6], [7], [8], [9], [10], [11], [12], [13], [14], [15]]\n",
    "Y2020 = []\n",
    "\n",
    "for Xfuture in X2020:\n",
    "  a = model.predict(Xfuture)[0][0]\n",
    "  Yfuture = np.power(np.e, a)\n",
    "  Y2020.append(Yfuture)\n",
    "\n",
    "for i in range(0,10):\n",
    "  print(str(X2020[i][0]+2015) + \": \" + str(np.trunc(Y2020[i])))\n",
    "\n",
    "Xaxis2010 = X + 2015\n",
    "Xaxis2020 = []\n",
    "for i in X2020:\n",
    "  Xaxis2020.append(i.pop() + 2015)\n",
    "\n",
    "plt.rcParams['figure.figsize'] = [15, 5]\n",
    "plt.rcParams['xtick.minor.visible'] = False\n",
    "plt.xticks(np.arange(2010, 2031, 1))\n",
    "plt.scatter(Xaxis2010, Y2010)\n",
    "plt.scatter(Xaxis2020, Y2020)"
   ]
  },
  {
   "cell_type": "code",
   "execution_count": null,
   "metadata": {
    "id": "cW3brvAOFAxJ"
   },
   "outputs": [],
   "source": [
    "plt.plot(r.history['loss'], label='loss')"
   ]
  }
 ],
 "metadata": {
  "accelerator": "GPU",
  "colab": {
   "name": "Salary prediction.ipynb",
   "private_outputs": true,
   "provenance": []
  },
  "kernelspec": {
   "display_name": "Python 3",
   "language": "python",
   "name": "python3"
  },
  "language_info": {
   "codemirror_mode": {
    "name": "ipython",
    "version": 3
   },
   "file_extension": ".py",
   "mimetype": "text/x-python",
   "name": "python",
   "nbconvert_exporter": "python",
   "pygments_lexer": "ipython3",
   "version": "3.9.4"
  }
 },
 "nbformat": 4,
 "nbformat_minor": 1
}
